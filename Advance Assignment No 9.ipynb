{
 "cells": [
  {
   "cell_type": "markdown",
   "id": "4b79c5f4",
   "metadata": {},
   "source": [
    " >__Q1. What is the difference between __getattr__ and __getattribute__?__"
   ]
  },
  {
   "cell_type": "markdown",
   "id": "18a9d8b6",
   "metadata": {},
   "source": [
    "Ans. A key difference between __getattr__ and __getattribute__ is that __getattr__ is only invoked if the attribute wasn't found the usual ways. It's good for implementing a fallback for missing attributes, and is probably the one of two you want."
   ]
  },
  {
   "cell_type": "markdown",
   "id": "20e3d017",
   "metadata": {},
   "source": [
    ">__Q2. How do the string forms in Python 3.X vary in terms of operations?__"
   ]
  },
  {
   "cell_type": "markdown",
   "id": "0b224a44",
   "metadata": {},
   "source": [
    "Ans. A Python String is a sequence of characters. Python Strings are immutable, it means once we declare a string, we can’t modify it. Python provides a built-in class “str” for handling text as the text is the most common form of data that a Python program handles. Following are the common string operations that can be performed in Python:\n",
    "\n",
    "* Concatenation of two or more strings.\n",
    "* Extracting or slicing partial strings from string values.\n",
    "* Adding or removing spaces.\n",
    "* Converting to lower or upper case.\n",
    "* Formatting strings using string formatters.\n",
    "* Finding and/or replacing a text in the given string with some other text.\n",
    "\n",
    "And the list of operations is countless. Python provides several built-in methods that let us to perform operations on a string in a flexible way."
   ]
  },
  {
   "cell_type": "markdown",
   "id": "0d2adeb3",
   "metadata": {},
   "source": [
    ">__Q3. In 3.X, how do you put non-ASCII Unicode characters in a string?__"
   ]
  },
  {
   "cell_type": "markdown",
   "id": "be04f701",
   "metadata": {},
   "source": [
    "Ans.  In order to use non-ASCII characters, Python requires explicit encoding and decoding of strings into Unicode. In IBM® SPSS® Modeler, Python scripts are assumed to be encoded in UTF-8, which is a standard Unicode encoding that supports non-ASCII characters."
   ]
  },
  {
   "cell_type": "markdown",
   "id": "6fcecb01",
   "metadata": {},
   "source": [
    ">__Q4. In Python 3.X, what are the key differences between text-mode and binary-mode files?__"
   ]
  },
  {
   "cell_type": "markdown",
   "id": "8885743d",
   "metadata": {},
   "source": [
    "Ans.  Binary file contains the data in the form of 0 and 1(series of binary values) and text files contains the data in the form of stream of characters.In general binary files are identified as executable files. But binary files are not in readable form as like text file."
   ]
  },
  {
   "cell_type": "markdown",
   "id": "69784352",
   "metadata": {},
   "source": [
    ">__Q5. How can you interpret a Unicode text file containing text encoded in a different encoding than your platform's default?__"
   ]
  },
  {
   "cell_type": "markdown",
   "id": "7c653c77",
   "metadata": {},
   "source": [
    "Ans.  The popular encodings being utf-8, ascii, etc. Using the string encode() method, you can convert unicode strings into any encodings supported by Python. By default, Python uses utf-8 encoding."
   ]
  },
  {
   "cell_type": "markdown",
   "id": "77c622b9",
   "metadata": {},
   "source": [
    ">__Q6. What is the best way to make a Unicode text file in a particular encoding format?__"
   ]
  },
  {
   "cell_type": "markdown",
   "id": "5bd10cb8",
   "metadata": {},
   "source": [
    "ans.  Call str.encode(encoding) with encoding set to \"utf8\" to encode str. Call open(file, mode) to open a file with mode set to \"wb\" . \"wb\" writes to files in binary mode and preserves UTF-8 format. Call file.write(data) to write data to the file."
   ]
  },
  {
   "cell_type": "markdown",
   "id": "d63fc15d",
   "metadata": {},
   "source": [
    ">__Q7. What qualifies ASCII text as a form of Unicode text?__"
   ]
  },
  {
   "cell_type": "markdown",
   "id": "7f4b7f27",
   "metadata": {},
   "source": [
    "Ans.  The first 128 Unicode code points represent the ASCII characters, which means that any ASCII text is also a UTF-8 text. UCS-2 uses two bytes (16 bits) for each character but can only encode the first 65,536 code points, the so-called Basic Multilingual Plane (BMP)."
   ]
  }
 ],
 "metadata": {
  "kernelspec": {
   "display_name": "Python 3",
   "language": "python",
   "name": "python3"
  },
  "language_info": {
   "codemirror_mode": {
    "name": "ipython",
    "version": 3
   },
   "file_extension": ".py",
   "mimetype": "text/x-python",
   "name": "python",
   "nbconvert_exporter": "python",
   "pygments_lexer": "ipython3",
   "version": "3.8.8"
  }
 },
 "nbformat": 4,
 "nbformat_minor": 5
}
